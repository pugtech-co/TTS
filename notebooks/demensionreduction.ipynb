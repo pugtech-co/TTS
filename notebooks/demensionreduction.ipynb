{
 "cells": [
  {
   "cell_type": "code",
   "execution_count": 27,
   "metadata": {},
   "outputs": [],
   "source": [
    "import torch\n",
    "\n",
    "# Load the checkpoint from the tar file\n",
    "checkpoint = torch.load('./model_se.pth.tar')\n",
    "\n",
    "# Get the state dictionary (Could differ based on how you saved it)\n",
    "# state_dict = checkpoint.state_dict()\n",
    "checkpoint = checkpoint\n",
    "\n",
    "weight_512 = checkpoint[\"criterion\"][\"softmax.fc.weight\"]\n",
    "weight_256 = weight_512[:, :256]\n",
    "weight_256.shape\n",
    "\n",
    "\n",
    "\n",
    "bias_512 = checkpoint[\"criterion\"][\"softmax.fc.bias\"]\n",
    "bias_256 = bias_512[:256]\n",
    "bias_256.shape\n",
    "\n",
    "checkpoint[\"criterion\"][\"softmax.fc.weight\"] = weight_256\n",
    "checkpoint[\"criterion\"][\"softmax.fc.bias\"] = bias_256"
   ]
  },
  {
   "cell_type": "code",
   "execution_count": 28,
   "metadata": {},
   "outputs": [],
   "source": [
    "torch.save(\n",
    "    checkpoint\n",
    ", \"sliced_model.pth.tar\")"
   ]
  },
  {
   "cell_type": "code",
   "execution_count": 29,
   "metadata": {},
   "outputs": [
    {
     "name": "stdout",
     "output_type": "stream",
     "text": [
      "torch.Size([5994, 256])\n"
     ]
    }
   ],
   "source": [
    "checkpoint = torch.load('sliced_model.pth.tar')\n",
    "\n",
    "print(checkpoint[\"criterion\"][\"softmax.fc.weight\"].shape)\n"
   ]
  },
  {
   "cell_type": "code",
   "execution_count": null,
   "metadata": {},
   "outputs": [],
   "source": []
  }
 ],
 "metadata": {
  "kernelspec": {
   "display_name": "tiktok--IX8dTYm",
   "language": "python",
   "name": "python3"
  },
  "language_info": {
   "codemirror_mode": {
    "name": "ipython",
    "version": 3
   },
   "file_extension": ".py",
   "mimetype": "text/x-python",
   "name": "python",
   "nbconvert_exporter": "python",
   "pygments_lexer": "ipython3",
   "version": "3.11.4"
  },
  "orig_nbformat": 4
 },
 "nbformat": 4,
 "nbformat_minor": 2
}
